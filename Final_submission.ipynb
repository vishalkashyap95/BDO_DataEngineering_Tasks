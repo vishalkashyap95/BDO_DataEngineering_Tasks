{
 "cells": [
  {
   "cell_type": "markdown",
   "id": "c4052a63",
   "metadata": {},
   "source": [
    "### Import libs and Read Source file"
   ]
  },
  {
   "cell_type": "code",
   "execution_count": 1,
   "id": "998b846c",
   "metadata": {},
   "outputs": [],
   "source": [
    "from pyspark.sql import SparkSession\n",
    "from pyspark.sql.functions import *\n",
    "import traceback, os\n",
    "from pyspark.sql.window import Window\n",
    "from pyspark.sql.types import *"
   ]
  },
  {
   "cell_type": "code",
   "execution_count": 2,
   "id": "f4907507",
   "metadata": {},
   "outputs": [],
   "source": [
    "events_df = spark.read.format(\"csv\")\\\n",
    "            .option(\"header\",True)\\\n",
    "            .load(\"C:\\Sr_DE_Takehome\\BDO_DataEngineering_Tasks\\Data_Engineer_Take_home_dataset.csv\")"
   ]
  },
  {
   "cell_type": "code",
   "execution_count": 3,
   "id": "8de28f08",
   "metadata": {},
   "outputs": [
    {
     "data": {
      "text/plain": [
       "DataFrame[key: string, value: string]"
      ]
     },
     "execution_count": 3,
     "metadata": {},
     "output_type": "execute_result"
    }
   ],
   "source": [
    "# Tried below config and infer schema options.But losing the original data. Bcoz currently there's no daylight saving.\n",
    "# dataset is having timestamp with UTC - 4:00. After applying below timeZone configs, I get UTC - 5:00. mismatch/Loss of 1 hr\n",
    "#spark.conf.set(\"spark.sql.session.timeZone\",\"EST\")\n",
    "#spark.conf.set(\"spark.sql.session.timeZone\",\"UTC\")\n",
    "\n",
    "# Adding this config to use old datetime parser\n",
    "spark.sql(\"set spark.sql.legacy.timeParserPolicy=LEGACY\")"
   ]
  },
  {
   "cell_type": "markdown",
   "id": "dc581bae",
   "metadata": {},
   "source": [
    "# Solutions\n",
    "\n",
    "### ---TASK 1---\n",
    "### Task 1.1 - Compute the average time on flyer per user."
   ]
  },
  {
   "cell_type": "markdown",
   "id": "05674db4",
   "metadata": {},
   "source": [
    "### Assumptions for Task 1.1\n",
    "\n",
    "#### Assuming \"flyer_open\" and \"item_open\" events as the only 2 events when user interact with flyers and spent time on."
   ]
  },
  {
   "cell_type": "markdown",
   "id": "02f0a09e",
   "metadata": {},
   "source": [
    "#### Data Cleaning and filtering - Select records where event in (flyer_open and item_open) and flyer_id not in (\"%3Cnull%3G\",\"\",\"null\")"
   ]
  },
  {
   "cell_type": "code",
   "execution_count": 4,
   "id": "cba08b23",
   "metadata": {},
   "outputs": [],
   "source": [
    "filtered_events_df = events_df.filter(\\\n",
    "                        (col(\"event\").isin(\"flyer_open\",\"item_open\")) &\n",
    "                        (~col(\"flyer_id\").isin(\"%3Cnull%3G\",\"\",\"null\")))"
   ]
  },
  {
   "cell_type": "code",
   "execution_count": 5,
   "id": "17844357",
   "metadata": {},
   "outputs": [],
   "source": [
    "# Adding new column \"converted_timestamp\"\n",
    "filtered_events_df = filtered_events_df\\\n",
    "        .withColumn(\"offset\",expr('right(timestamp,6)'))\\\n",
    "        .withColumn(\"converted_timestamp\",to_timestamp(substring('timestamp',0,19),\"yyyy-MM-dd'T'HH:mm:ss\"))"
   ]
  },
  {
   "cell_type": "code",
   "execution_count": 6,
   "id": "60b0fe52",
   "metadata": {},
   "outputs": [],
   "source": [
    "#filtered_events_df.createOrReplaceTempView(\"filtered_events_df\")"
   ]
  },
  {
   "cell_type": "code",
   "execution_count": 7,
   "id": "1a4ddcdc",
   "metadata": {},
   "outputs": [],
   "source": [
    "# filtered_events_w_diff_df = spark.sql(\"\"\"\n",
    "#     SELECT *,\n",
    "#         CASE WHEN converted_timestamp - lag(converted_timestamp) OVER (PARTITION BY user_id ORDER BY converted_timestamp)\n",
    "#                 <= interval 20 minutes\n",
    "#             THEN converted_timestamp - lag(converted_timestamp) OVER (PARTITION BY user_id ORDER BY converted_timestamp)\n",
    "#         END As curr_prev_diff_ts\n",
    "#     FROM filtered_events_df\n",
    "#         \"\"\")\n",
    "\n",
    "\n",
    "# Creating partition to calculate the elapsed time between 2 events\n",
    "winspec = Window.partitionBy(\"user_id\").orderBy(\"converted_timestamp\")\n",
    "filtered_events_w_diff_df = filtered_events_df\\\n",
    "                .withColumn(\"curr_prev_diff_ts\",col('converted_timestamp')-lag(col('converted_timestamp')).over(winspec))\\\n",
    "                .withColumn(\"curr_prev_diff_ts\",col(\"curr_prev_diff_ts\").cast(StringType()))"
   ]
  },
  {
   "cell_type": "code",
   "execution_count": 8,
   "id": "cd1829a8",
   "metadata": {},
   "outputs": [],
   "source": [
    "# Following below extraction, transformation and conversion method as there was a dataloss while setting the timezone.\n",
    "# These steps would have eliminated if the timestamp column data would have matched with current UTC/EST timezone.\n",
    "events_df_with_formatted_time = filtered_events_w_diff_df.withColumn(\"formatted_time\",regexp_replace(col(\"curr_prev_diff_ts\"),\" hours \",\":\"))\\\n",
    "                    .withColumn(\"formatted_time\",regexp_replace(col(\"formatted_time\"),\" minutes \",\":\"))\\\n",
    "                    .withColumn(\"formatted_time\",regexp_replace(col(\"formatted_time\"),\" seconds\",\"\"))\\\n",
    "                    .withColumn(\"splitted_time\",split(col(\"formatted_time\"),\":\"))\\\n",
    "                    .withColumn(\"time_to_secs\",when(size(col(\"splitted_time\"))==3,\n",
    "                                                    col(\"splitted_time\").getItem(0)*3600+\n",
    "                                                    col(\"splitted_time\").getItem(1)*60+\n",
    "                                                    col(\"splitted_time\").getItem(2))\\\n",
    "                                               .when(size(col(\"splitted_time\"))==2,\n",
    "                                                     col(\"splitted_time\").getItem(0)*60+\n",
    "                                                     col(\"splitted_time\").getItem(1))\n",
    "                                               .otherwise(col(\"formatted_time\")))\\\n",
    "                    .withColumn(\"time_to_secs\",col(\"time_to_secs\").cast(IntegerType()))\\\n",
    "                    .drop(*[\"formatted_time\",\"splitted_time\",\"timestamp\"])"
   ]
  },
  {
   "cell_type": "markdown",
   "id": "ded4675d",
   "metadata": {},
   "source": [
    "### I am assuming that if the difference between 2 events is less than 2 hrs then user is active and spent time on flyers.\n",
    "### In other words, I am removing the outliers which will un-necessarily skew the avg time."
   ]
  },
  {
   "cell_type": "code",
   "execution_count": 9,
   "id": "6f6b7afe",
   "metadata": {},
   "outputs": [],
   "source": [
    "final_events_df = events_df_with_formatted_time.filter(col(\"time_to_secs\")<7600)\n",
    "# final_events_df = events_df_with_formatted_time"
   ]
  },
  {
   "cell_type": "code",
   "execution_count": 10,
   "id": "4fe0cc9f",
   "metadata": {},
   "outputs": [],
   "source": [
    "# Calculating the avg time\n",
    "final_events_df = final_events_df.groupBy(\"user_id\",date_format(col(\"converted_timestamp\"),\"dd-MM-yyyy\").alias(\"date\"))\\\n",
    "    .agg(avg(\"time_to_secs\").cast(DecimalType(18,2)).alias(\"avg_time_spent_in_secs\"))"
   ]
  },
  {
   "cell_type": "markdown",
   "id": "fe3d9450",
   "metadata": {},
   "source": [
    "### In the below output we can see that user \"4e0521677630b9df7d69717098024419179910e1fff66d24a1affbc084b0c91f\" has spent 71.27 secs on an average on 1st Oct 2018 on flyers"
   ]
  },
  {
   "cell_type": "code",
   "execution_count": 11,
   "id": "0b31560b",
   "metadata": {
    "scrolled": true
   },
   "outputs": [
    {
     "name": "stdout",
     "output_type": "stream",
     "text": [
      "+----------------------------------------------------------------+----------+----------------------+\n",
      "|user_id                                                         |date      |avg_time_spent_in_secs|\n",
      "+----------------------------------------------------------------+----------+----------------------+\n",
      "|4e0521677630b9df7d69717098024419179910e1fff66d24a1affbc084b0c91f|01-10-2018|71.27                 |\n",
      "|74130f3f5de109961e12f22e8c802dc8fdafda2a045b60556cf2e604bfa98e62|01-10-2018|1560.86               |\n",
      "|7b8f402162b5d8012c075cade7c331dc7ceccafc93de5a03bc1c272ef55477e6|01-10-2018|267.00                |\n",
      "|a043a79b8262033eade50cd80b31b9c4883a3a77294634d2b91267e90c886c2a|01-10-2018|1525.50               |\n",
      "|c104b2e862e69bbd850a7ddfb49e6d6455be36f0bc74774f4057def99ef25715|01-10-2018|497.00                |\n",
      "|e1c3694b2b58532d7fd48283fdc8d6b6fd791397452fc45f9268af48015babd8|01-10-2018|78.11                 |\n",
      "|0655466fd378fe385057e604caa841586385e597ffc4476c55f8a5ab1420ee23|01-10-2018|541.83                |\n",
      "|0f771d9f23cfb11c3d4271b99a52338274bd854a6d35a45b407d3ec1454ee066|01-10-2018|367.00                |\n",
      "|2ce6372d8e47cd1c465371a104a6d9f293962269fa5cfa39dd2b314129d5868c|01-10-2018|268.00                |\n",
      "|43015974eaa3408f53ef825bb02b22c5d92bde234967d6b0385f9075e0a125f8|01-10-2018|2259.00               |\n",
      "+----------------------------------------------------------------+----------+----------------------+\n",
      "only showing top 10 rows\n",
      "\n"
     ]
    }
   ],
   "source": [
    "final_events_df.show(10,False)"
   ]
  },
  {
   "cell_type": "code",
   "execution_count": null,
   "id": "928b7f05",
   "metadata": {},
   "outputs": [],
   "source": []
  },
  {
   "cell_type": "markdown",
   "id": "0a0e8552",
   "metadata": {},
   "source": [
    "### Task 1.2 - Next, generate an output that will back a Business Intelligence (Bl) report that will be shared with our merchant partners.\n",
    "### This can be use to understand what kind of flyers user spent time on and accordingly we can provide recommendations"
   ]
  },
  {
   "cell_type": "code",
   "execution_count": 12,
   "id": "c0049af7",
   "metadata": {},
   "outputs": [
    {
     "name": "stdout",
     "output_type": "stream",
     "text": [
      "+--------------------+----------+--------+-----------+------+-------------------+-----------------+------------+\n",
      "|             user_id|     event|flyer_id|merchant_id|offset|converted_timestamp|curr_prev_diff_ts|time_to_secs|\n",
      "+--------------------+----------+--------+-----------+------+-------------------+-----------------+------------+\n",
      "|4e0521677630b9df7...|flyer_open| 1998362|       2432|-04:00|2018-10-01 11:33:38|       38 seconds|          38|\n",
      "|4e0521677630b9df7...|flyer_open| 2016316|       2268|-04:00|2018-10-01 11:34:13|       35 seconds|          35|\n",
      "|4e0521677630b9df7...|flyer_open| 2009401|       2362|-04:00|2018-10-01 11:34:16|        3 seconds|           3|\n",
      "|4e0521677630b9df7...|flyer_open| 2009693|       2066|-04:00|2018-10-01 11:34:48|       32 seconds|          32|\n",
      "|4e0521677630b9df7...|flyer_open| 2016439|       2609|-04:00|2018-10-01 11:35:26|       38 seconds|          38|\n",
      "+--------------------+----------+--------+-----------+------+-------------------+-----------------+------------+\n",
      "only showing top 5 rows\n",
      "\n"
     ]
    }
   ],
   "source": [
    "events_df_with_formatted_time.filter(col(\"time_to_secs\")<7600).show(5)"
   ]
  },
  {
   "cell_type": "markdown",
   "id": "a3f5cbf3",
   "metadata": {},
   "source": [
    "### As we would be sharinig the data with merchants. One of the metric can be...\n",
    "### How much time user spent on which flyer by merchants?"
   ]
  },
  {
   "cell_type": "code",
   "execution_count": 13,
   "id": "481ad709",
   "metadata": {
    "scrolled": true
   },
   "outputs": [
    {
     "name": "stdout",
     "output_type": "stream",
     "text": [
      "+-----------+--------+--------------------+----------+------------------------+----------------------+\n",
      "|merchant_id|flyer_id|             user_id|      date|total_time_spent_in_secs|avg_time_spent_in_secs|\n",
      "+-----------+--------+--------------------+----------+------------------------+----------------------+\n",
      "|       2432| 1998362|4e0521677630b9df7...|01-10-2018|                   38.00|                 38.00|\n",
      "|       2268| 2016316|4e0521677630b9df7...|01-10-2018|                   35.00|                 35.00|\n",
      "|       2362| 2009401|4e0521677630b9df7...|01-10-2018|                    3.00|                  3.00|\n",
      "|       2066| 2009693|4e0521677630b9df7...|01-10-2018|                  196.00|                 98.00|\n",
      "|       2609| 2016439|4e0521677630b9df7...|01-10-2018|                   38.00|                 38.00|\n",
      "+-----------+--------+--------------------+----------+------------------------+----------------------+\n",
      "only showing top 5 rows\n",
      "\n"
     ]
    }
   ],
   "source": [
    "events_df_with_formatted_time.filter(col(\"time_to_secs\")<7600).groupBy(\"merchant_id\",\"flyer_id\",\"user_id\",date_format(col(\"converted_timestamp\"),\"dd-MM-yyyy\").alias(\"date\"))\\\n",
    "    .agg(sum(\"time_to_secs\").cast(DecimalType(18,2)).alias(\"total_time_spent_in_secs\"),\\\n",
    "     avg(\"time_to_secs\").cast(DecimalType(18,2)).alias(\"avg_time_spent_in_secs\")).show(5)"
   ]
  },
  {
   "cell_type": "markdown",
   "id": "43c2ba22",
   "metadata": {},
   "source": [
    "### In the above output we can see that, for merchant \"2066\", user \"4e0521677630b9df7d69717098024419179910e1fff66d24a1affbc084b0c91f\" has spent total 196 secs and avg 98 secs on flyer \"2009693\", on 1st oct 2018"
   ]
  },
  {
   "cell_type": "code",
   "execution_count": null,
   "id": "1d31ed64",
   "metadata": {},
   "outputs": [],
   "source": []
  },
  {
   "cell_type": "markdown",
   "id": "a23148d1",
   "metadata": {},
   "source": [
    "### Task 1.3 - Explain how your algorithm scales for:\n",
    "####   - 1 Million Events (~10 MB of data)\n",
    "####   - 1 Trillion Events (~10 TB of data)\n",
    "#### --------------------------------------------------------------------------------"
   ]
  },
  {
   "cell_type": "markdown",
   "id": "8ce11f78",
   "metadata": {},
   "source": [
    "### Explainiation - As I am using PySpark. Scalability depends on the size of cluster and the resources allocated to the jobs. Need to understand the size of the data that we might process and accordingly we can assign resources."
   ]
  },
  {
   "cell_type": "code",
   "execution_count": null,
   "id": "da57760d",
   "metadata": {},
   "outputs": [],
   "source": []
  },
  {
   "cell_type": "markdown",
   "id": "5b5a6315",
   "metadata": {},
   "source": [
    "### ---TASK 2---"
   ]
  },
  {
   "cell_type": "markdown",
   "id": "862f820d",
   "metadata": {},
   "source": [
    "### Task 2.1<br>Design a workflow to move the user behaviour event data from the application to a backend and provide insights into the data pipelines that you foresee"
   ]
  },
  {
   "cell_type": "markdown",
   "id": "2c250ed7",
   "metadata": {},
   "source": [
    "### Keeping all the requirements in mind, below architecture would be suitable."
   ]
  },
  {
   "attachments": {
    "Design_workflow-2.jpg": {
     "image/jpeg": "[encoded data removed]"
    }
   },
   "cell_type": "markdown",
   "id": "4e9e5a12",
   "metadata": {},
   "source": [
    "![Design_workflow-2.jpg](attachment:Design_workflow-2.jpg)"
   ]
  },
  {
   "cell_type": "code",
   "execution_count": null,
   "id": "e3e371af",
   "metadata": {},
   "outputs": [],
   "source": []
  },
  {
   "cell_type": "markdown",
   "id": "6218ba8e",
   "metadata": {},
   "source": [
    "### Task 2.2<br>Explain how the workflow would provide the data to the batch process in Part 1 Algorithm."
   ]
  },
  {
   "cell_type": "markdown",
   "id": "62a94c1d",
   "metadata": {},
   "source": [
    "### Explaination - Eventually the data will be stored in datalake(i.e S3). We can directly store the raw data via Kafka to S3 OR via PySpark.<br>- We can use scheduling tools(like Apache Airflow/Apache Nifi) to trigger PySpark jobs which would run on EMR cluster. <br>- These jobs will read data from S3 and write the cleaned and tranformed data back to S3 Or maybe directly to Data warehouse(Redshift) if needed."
   ]
  },
  {
   "cell_type": "code",
   "execution_count": null,
   "id": "a081cc16",
   "metadata": {},
   "outputs": [],
   "source": []
  },
  {
   "cell_type": "markdown",
   "id": "ce678a76",
   "metadata": {},
   "source": [
    "### Task 2.3<br>Explain any adaptations that your work from Part 1 - Algorithm would need to work as a streaming process."
   ]
  },
  {
   "cell_type": "markdown",
   "id": "89ca09c9",
   "metadata": {},
   "source": [
    "### Explaination - Again an added advantage of using PySpark. For this, we can use Kafka and PySpark integration for reading streams of data.\n",
    "### Here are the high level steps to process streams of data. <br>- We can read data from Kafka servers by subscribing to particular topic. <br>- Create dataframe.<br>- Use the code in Part 1 for transformation.<br>- keep writing the data datalake(S3) or upserting straight to Redshift if needed."
   ]
  },
  {
   "cell_type": "code",
   "execution_count": null,
   "id": "3a4e9d9f",
   "metadata": {},
   "outputs": [],
   "source": []
  },
  {
   "cell_type": "markdown",
   "id": "a9c688b8",
   "metadata": {},
   "source": [
    "### Task 2.4<br>Highlight any important design decisions you make, and describe briefly why you made those decisions."
   ]
  },
  {
   "cell_type": "markdown",
   "id": "d3f1191b",
   "metadata": {},
   "source": [
    "### Explaination<br>- We can mimic the entire setup on premise as well. But maintaining on prem architecture would give us a headache. Better to use any cloud platform for this.<br>- Keeping all the components in same VPC and Zone/Region would definetly reduce the latency.<br>- The cloud services are easy to setup, configurable and are autoscalable with few configurations.<br>- Processing of data would be fault taulerant as Spark maintains the lineage graph, and RDDs can be re-build using the graph, so it can retrive lost partitions in terms of failure."
   ]
  },
  {
   "cell_type": "code",
   "execution_count": null,
   "id": "0a64c9cc",
   "metadata": {},
   "outputs": [],
   "source": []
  }
 ],
 "metadata": {
  "kernelspec": {
   "display_name": "Python 3 (ipykernel)",
   "language": "python",
   "name": "python3"
  },
  "language_info": {
   "codemirror_mode": {
    "name": "ipython",
    "version": 3
   },
   "file_extension": ".py",
   "mimetype": "text/x-python",
   "name": "python",
   "nbconvert_exporter": "python",
   "pygments_lexer": "ipython3",
   "version": "3.8.6"
  }
 },
 "nbformat": 4,
 "nbformat_minor": 5
}
